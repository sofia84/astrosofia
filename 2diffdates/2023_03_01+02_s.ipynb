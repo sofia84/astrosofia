{
 "cells": [
  {
   "cell_type": "code",
   "execution_count": null,
   "metadata": {},
   "outputs": [],
   "source": [
    "import numpy as np\n",
    "import matplotlib.pyplot as plt\n",
    "from matplotlib.dates import MinuteLocator, SecondLocator, DateFormatter\n",
    "import pandas as pd"
   ]
  },
  {
   "cell_type": "code",
   "execution_count": null,
   "metadata": {},
   "outputs": [],
   "source": [
    "#azimuth_min = \n",
    "#azimuth_max = \n",
    "\n",
    "data_i = pd.to_datetime('2023-03-01 23:00:00', format = '%Y-%m-%d %H:%M:%S')\n",
    "data_f = pd.to_datetime('2023-03-02 02:00:00', format = '%Y-%m-%d %H:%M:%S')\n",
    "#data_m = pd.to_datetime('', format = '%Y-%m-%d %H:%M:%S')\n",
    "\n",
    "#title = \n",
    "\n",
    "file_parabola_1 = './TDA2023_03_01.txt'\n",
    "file_parabola_2 = './TDA2023_03_02.txt'\n",
    "#file_ricevitore = '../../raccolta_dati/10GHz/2023-02-13_14.txt'"
   ]
  },
  {
   "cell_type": "code",
   "execution_count": null,
   "metadata": {},
   "outputs": [],
   "source": [
    "parabola_1 = pd.read_csv (file_parabola_1,\n",
    "                           sep=';',\n",
    "                           header=None,\n",
    "                           comment='#')\n",
    "parabola_2 = pd.read_csv (file_parabola_2,\n",
    "                           sep=';',\n",
    "                           header=None,\n",
    "                           comment='#')\n",
    "parabola = pd.concat([parabola_1, parabola_2], axis=0)"
   ]
  },
  {
   "cell_type": "code",
   "execution_count": null,
   "metadata": {},
   "outputs": [],
   "source": []
  }
 ],
 "metadata": {
  "language_info": {
   "name": "python"
  },
  "orig_nbformat": 4
 },
 "nbformat": 4,
 "nbformat_minor": 2
}
