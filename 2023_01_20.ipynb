{
 "cells": [
  {
   "cell_type": "code",
   "execution_count": 4,
   "metadata": {},
   "outputs": [],
   "source": [
    "import numpy as np\n",
    "import matplotlib.pyplot as plt\n",
    "from matplotlib.dates import MinuteLocator, SecondLocator, DateFormatter\n",
    "import pandas as pd\n",
    "azimuth_min =  79.9\n",
    "azimuth_max = 80.1\n"
   ]
  },
  {
   "cell_type": "code",
   "execution_count": 5,
   "metadata": {},
   "outputs": [],
   "source": [
    "data_i = pd.to_datetime('2023-01-20 00:00:00', format = '%Y-%m-%d %H:%M:%S')\n",
    "data_f = pd.to_datetime('2023-01-20 02:52:00', format = '%Y-%m-%d %H:%M:%S')\n",
    "data_m = pd.to_datetime('2023-01-20 03:56:00', format = '%Y-%m-%d %H:%M:%S')\n",
    "\n",
    "title = '20 gennaio 2023, azimuth: 75'\n",
    "\n",
    "file_parabola = './TDA2023_01_20.txt'\n",
    "file_ricevitore = './10GHz-2023-01-19_20.txt'"
   ]
  },
  {
   "cell_type": "code",
   "execution_count": 6,
   "metadata": {},
   "outputs": [
    {
     "ename": "FileNotFoundError",
     "evalue": "[Errno 2] No such file or directory: './10GHz_2023-01-19_20.txt'",
     "output_type": "error",
     "traceback": [
      "\u001b[1;31m---------------------------------------------------------------------------\u001b[0m",
      "\u001b[1;31mFileNotFoundError\u001b[0m                         Traceback (most recent call last)",
      "\u001b[1;32m~\\AppData\\Local\\Temp\\ipykernel_15644\\3193110578.py\u001b[0m in \u001b[0;36m<module>\u001b[1;34m\u001b[0m\n\u001b[0;32m      4\u001b[0m                            comment='#')\n\u001b[0;32m      5\u001b[0m \u001b[1;33m\u001b[0m\u001b[0m\n\u001b[1;32m----> 6\u001b[1;33m ricevitore_10 = pd.read_csv (file_ricevitore,\n\u001b[0m\u001b[0;32m      7\u001b[0m                                 \u001b[0msep\u001b[0m \u001b[1;33m=\u001b[0m \u001b[1;34m' '\u001b[0m\u001b[1;33m,\u001b[0m\u001b[1;33m\u001b[0m\u001b[1;33m\u001b[0m\u001b[0m\n\u001b[0;32m      8\u001b[0m                                 \u001b[0mheader\u001b[0m\u001b[1;33m=\u001b[0m\u001b[1;32mNone\u001b[0m\u001b[1;33m,\u001b[0m\u001b[1;33m\u001b[0m\u001b[1;33m\u001b[0m\u001b[0m\n",
      "\u001b[1;32mc:\\Users\\sofia\\anaconda3\\lib\\site-packages\\pandas\\util\\_decorators.py\u001b[0m in \u001b[0;36mwrapper\u001b[1;34m(*args, **kwargs)\u001b[0m\n\u001b[0;32m    309\u001b[0m                     \u001b[0mstacklevel\u001b[0m\u001b[1;33m=\u001b[0m\u001b[0mstacklevel\u001b[0m\u001b[1;33m,\u001b[0m\u001b[1;33m\u001b[0m\u001b[1;33m\u001b[0m\u001b[0m\n\u001b[0;32m    310\u001b[0m                 )\n\u001b[1;32m--> 311\u001b[1;33m             \u001b[1;32mreturn\u001b[0m \u001b[0mfunc\u001b[0m\u001b[1;33m(\u001b[0m\u001b[1;33m*\u001b[0m\u001b[0margs\u001b[0m\u001b[1;33m,\u001b[0m \u001b[1;33m**\u001b[0m\u001b[0mkwargs\u001b[0m\u001b[1;33m)\u001b[0m\u001b[1;33m\u001b[0m\u001b[1;33m\u001b[0m\u001b[0m\n\u001b[0m\u001b[0;32m    312\u001b[0m \u001b[1;33m\u001b[0m\u001b[0m\n\u001b[0;32m    313\u001b[0m         \u001b[1;32mreturn\u001b[0m \u001b[0mwrapper\u001b[0m\u001b[1;33m\u001b[0m\u001b[1;33m\u001b[0m\u001b[0m\n",
      "\u001b[1;32mc:\\Users\\sofia\\anaconda3\\lib\\site-packages\\pandas\\io\\parsers\\readers.py\u001b[0m in \u001b[0;36mread_csv\u001b[1;34m(filepath_or_buffer, sep, delimiter, header, names, index_col, usecols, squeeze, prefix, mangle_dupe_cols, dtype, engine, converters, true_values, false_values, skipinitialspace, skiprows, skipfooter, nrows, na_values, keep_default_na, na_filter, verbose, skip_blank_lines, parse_dates, infer_datetime_format, keep_date_col, date_parser, dayfirst, cache_dates, iterator, chunksize, compression, thousands, decimal, lineterminator, quotechar, quoting, doublequote, escapechar, comment, encoding, encoding_errors, dialect, error_bad_lines, warn_bad_lines, on_bad_lines, delim_whitespace, low_memory, memory_map, float_precision, storage_options)\u001b[0m\n\u001b[0;32m    676\u001b[0m     \u001b[0mkwds\u001b[0m\u001b[1;33m.\u001b[0m\u001b[0mupdate\u001b[0m\u001b[1;33m(\u001b[0m\u001b[0mkwds_defaults\u001b[0m\u001b[1;33m)\u001b[0m\u001b[1;33m\u001b[0m\u001b[1;33m\u001b[0m\u001b[0m\n\u001b[0;32m    677\u001b[0m \u001b[1;33m\u001b[0m\u001b[0m\n\u001b[1;32m--> 678\u001b[1;33m     \u001b[1;32mreturn\u001b[0m \u001b[0m_read\u001b[0m\u001b[1;33m(\u001b[0m\u001b[0mfilepath_or_buffer\u001b[0m\u001b[1;33m,\u001b[0m \u001b[0mkwds\u001b[0m\u001b[1;33m)\u001b[0m\u001b[1;33m\u001b[0m\u001b[1;33m\u001b[0m\u001b[0m\n\u001b[0m\u001b[0;32m    679\u001b[0m \u001b[1;33m\u001b[0m\u001b[0m\n\u001b[0;32m    680\u001b[0m \u001b[1;33m\u001b[0m\u001b[0m\n",
      "\u001b[1;32mc:\\Users\\sofia\\anaconda3\\lib\\site-packages\\pandas\\io\\parsers\\readers.py\u001b[0m in \u001b[0;36m_read\u001b[1;34m(filepath_or_buffer, kwds)\u001b[0m\n\u001b[0;32m    573\u001b[0m \u001b[1;33m\u001b[0m\u001b[0m\n\u001b[0;32m    574\u001b[0m     \u001b[1;31m# Create the parser.\u001b[0m\u001b[1;33m\u001b[0m\u001b[1;33m\u001b[0m\u001b[0m\n\u001b[1;32m--> 575\u001b[1;33m     \u001b[0mparser\u001b[0m \u001b[1;33m=\u001b[0m \u001b[0mTextFileReader\u001b[0m\u001b[1;33m(\u001b[0m\u001b[0mfilepath_or_buffer\u001b[0m\u001b[1;33m,\u001b[0m \u001b[1;33m**\u001b[0m\u001b[0mkwds\u001b[0m\u001b[1;33m)\u001b[0m\u001b[1;33m\u001b[0m\u001b[1;33m\u001b[0m\u001b[0m\n\u001b[0m\u001b[0;32m    576\u001b[0m \u001b[1;33m\u001b[0m\u001b[0m\n\u001b[0;32m    577\u001b[0m     \u001b[1;32mif\u001b[0m \u001b[0mchunksize\u001b[0m \u001b[1;32mor\u001b[0m \u001b[0miterator\u001b[0m\u001b[1;33m:\u001b[0m\u001b[1;33m\u001b[0m\u001b[1;33m\u001b[0m\u001b[0m\n",
      "\u001b[1;32mc:\\Users\\sofia\\anaconda3\\lib\\site-packages\\pandas\\io\\parsers\\readers.py\u001b[0m in \u001b[0;36m__init__\u001b[1;34m(self, f, engine, **kwds)\u001b[0m\n\u001b[0;32m    930\u001b[0m \u001b[1;33m\u001b[0m\u001b[0m\n\u001b[0;32m    931\u001b[0m         \u001b[0mself\u001b[0m\u001b[1;33m.\u001b[0m\u001b[0mhandles\u001b[0m\u001b[1;33m:\u001b[0m \u001b[0mIOHandles\u001b[0m \u001b[1;33m|\u001b[0m \u001b[1;32mNone\u001b[0m \u001b[1;33m=\u001b[0m \u001b[1;32mNone\u001b[0m\u001b[1;33m\u001b[0m\u001b[1;33m\u001b[0m\u001b[0m\n\u001b[1;32m--> 932\u001b[1;33m         \u001b[0mself\u001b[0m\u001b[1;33m.\u001b[0m\u001b[0m_engine\u001b[0m \u001b[1;33m=\u001b[0m \u001b[0mself\u001b[0m\u001b[1;33m.\u001b[0m\u001b[0m_make_engine\u001b[0m\u001b[1;33m(\u001b[0m\u001b[0mf\u001b[0m\u001b[1;33m,\u001b[0m \u001b[0mself\u001b[0m\u001b[1;33m.\u001b[0m\u001b[0mengine\u001b[0m\u001b[1;33m)\u001b[0m\u001b[1;33m\u001b[0m\u001b[1;33m\u001b[0m\u001b[0m\n\u001b[0m\u001b[0;32m    933\u001b[0m \u001b[1;33m\u001b[0m\u001b[0m\n\u001b[0;32m    934\u001b[0m     \u001b[1;32mdef\u001b[0m \u001b[0mclose\u001b[0m\u001b[1;33m(\u001b[0m\u001b[0mself\u001b[0m\u001b[1;33m)\u001b[0m\u001b[1;33m:\u001b[0m\u001b[1;33m\u001b[0m\u001b[1;33m\u001b[0m\u001b[0m\n",
      "\u001b[1;32mc:\\Users\\sofia\\anaconda3\\lib\\site-packages\\pandas\\io\\parsers\\readers.py\u001b[0m in \u001b[0;36m_make_engine\u001b[1;34m(self, f, engine)\u001b[0m\n\u001b[0;32m   1214\u001b[0m             \u001b[1;31m# \"Union[str, PathLike[str], ReadCsvBuffer[bytes], ReadCsvBuffer[str]]\"\u001b[0m\u001b[1;33m\u001b[0m\u001b[1;33m\u001b[0m\u001b[0m\n\u001b[0;32m   1215\u001b[0m             \u001b[1;31m# , \"str\", \"bool\", \"Any\", \"Any\", \"Any\", \"Any\", \"Any\"\u001b[0m\u001b[1;33m\u001b[0m\u001b[1;33m\u001b[0m\u001b[0m\n\u001b[1;32m-> 1216\u001b[1;33m             self.handles = get_handle(  # type: ignore[call-overload]\n\u001b[0m\u001b[0;32m   1217\u001b[0m                 \u001b[0mf\u001b[0m\u001b[1;33m,\u001b[0m\u001b[1;33m\u001b[0m\u001b[1;33m\u001b[0m\u001b[0m\n\u001b[0;32m   1218\u001b[0m                 \u001b[0mmode\u001b[0m\u001b[1;33m,\u001b[0m\u001b[1;33m\u001b[0m\u001b[1;33m\u001b[0m\u001b[0m\n",
      "\u001b[1;32mc:\\Users\\sofia\\anaconda3\\lib\\site-packages\\pandas\\io\\common.py\u001b[0m in \u001b[0;36mget_handle\u001b[1;34m(path_or_buf, mode, encoding, compression, memory_map, is_text, errors, storage_options)\u001b[0m\n\u001b[0;32m    784\u001b[0m         \u001b[1;32mif\u001b[0m \u001b[0mioargs\u001b[0m\u001b[1;33m.\u001b[0m\u001b[0mencoding\u001b[0m \u001b[1;32mand\u001b[0m \u001b[1;34m\"b\"\u001b[0m \u001b[1;32mnot\u001b[0m \u001b[1;32min\u001b[0m \u001b[0mioargs\u001b[0m\u001b[1;33m.\u001b[0m\u001b[0mmode\u001b[0m\u001b[1;33m:\u001b[0m\u001b[1;33m\u001b[0m\u001b[1;33m\u001b[0m\u001b[0m\n\u001b[0;32m    785\u001b[0m             \u001b[1;31m# Encoding\u001b[0m\u001b[1;33m\u001b[0m\u001b[1;33m\u001b[0m\u001b[0m\n\u001b[1;32m--> 786\u001b[1;33m             handle = open(\n\u001b[0m\u001b[0;32m    787\u001b[0m                 \u001b[0mhandle\u001b[0m\u001b[1;33m,\u001b[0m\u001b[1;33m\u001b[0m\u001b[1;33m\u001b[0m\u001b[0m\n\u001b[0;32m    788\u001b[0m                 \u001b[0mioargs\u001b[0m\u001b[1;33m.\u001b[0m\u001b[0mmode\u001b[0m\u001b[1;33m,\u001b[0m\u001b[1;33m\u001b[0m\u001b[1;33m\u001b[0m\u001b[0m\n",
      "\u001b[1;31mFileNotFoundError\u001b[0m: [Errno 2] No such file or directory: './10GHz_2023-01-19_20.txt'"
     ]
    }
   ],
   "source": [
    "parabola = pd.read_csv (file_parabola,\n",
    "                           sep=';',\n",
    "                           header=None,\n",
    "                           comment='#')\n",
    "\n",
    "ricevitore_10 = pd.read_csv (file_ricevitore,\n",
    "                                sep = ' ',\n",
    "                                header=None,\n",
    "                                skiprows=11,\n",
    "                                decimal='.',\n",
    "                                names=['data','ora','rad','temperatura'])"
   ]
  },
  {
   "cell_type": "code",
   "execution_count": null,
   "metadata": {},
   "outputs": [],
   "source": [
    "parabola.rename(columns={0: 'day', 1: 'month', 2: 'year', 3: 'hour', 4: 'minute', 5: 'second', 9: 'azimuth', 10: 'elevazione'}, inplace = True)\n",
    "parabola['data_ora'] = pd.to_datetime(parabola[[\"day\", \"month\", \"year\", \"hour\", \"minute\", \"second\"]])\n",
    "parabola = parabola.loc[:,['data_ora','elevazione','azimuth']]"
   ]
  },
  {
   "cell_type": "code",
   "execution_count": null,
   "metadata": {},
   "outputs": [],
   "source": [
    "mask_1 = parabola.azimuth <= azimuth_max\n",
    "mask_2 = parabola.azimuth >= azimuth_min\n",
    "mask_3 = parabola.data_ora >= data_i\n",
    "mask_4 = parabola.data_ora <= data_f\n",
    "parabola = parabola.loc[mask_1 & mask_2 & mask_3 & mask_4]\n",
    "parabola.reset_index(inplace=True, drop=True)"
   ]
  },
  {
   "cell_type": "code",
   "execution_count": null,
   "metadata": {},
   "outputs": [],
   "source": [
    "mask_1 = parabola.azimuth <= azimuth_max\n",
    "mask_2 = parabola.azimuth >= azimuth_min\n",
    "mask_3 = parabola.data_ora >= data_i\n",
    "mask_4 = parabola.data_ora <= data_f\n",
    "parabola = parabola.loc[mask_1 & mask_2 & mask_3 & mask_4]\n",
    "parabola.reset_index(inplace=True, drop=True)"
   ]
  },
  {
   "cell_type": "code",
   "execution_count": null,
   "metadata": {},
   "outputs": [],
   "source": [
    "ricevitore_10['data_ora'] = ricevitore_10['data'].map(str) + ' ' + ricevitore_10['ora'].map(str)\n",
    "ricevitore_10['data_ora'] = pd.to_datetime(ricevitore_10['data_ora'], format = '%m/%d/%Y %H:%M:%S.%f')\n",
    "ricevitore_10 = ricevitore_10.iloc[:,[-1,2,3]]"
   ]
  },
  {
   "cell_type": "code",
   "execution_count": null,
   "metadata": {},
   "outputs": [],
   "source": [
    "delta_time = pd.Timedelta(hours = 1)\n",
    "mask_5 = ricevitore_10.data_ora >= parabola.iloc[0]['data_ora'] + delta_time\n",
    "mask_6 = ricevitore_10.data_ora <= parabola.iloc[-1]['data_ora'] + delta_time\n",
    "ricevitore_10 = ricevitore_10[mask_5 & mask_6]"
   ]
  },
  {
   "cell_type": "code",
   "execution_count": null,
   "metadata": {},
   "outputs": [],
   "source": [
    "parabola['data_ora'] = parabola.data_ora + 2*delta_time\n",
    "ricevitore_10['data_ora'] = ricevitore_10.data_ora + delta_time"
   ]
  },
  {
   "cell_type": "code",
   "execution_count": null,
   "metadata": {},
   "outputs": [],
   "source": [
    "with open('parabola.txt', 'w') as f: \n",
    "    f.write(parabola.to_string(index=False))\n",
    "\n",
    "with open('ricevitore.txt', 'w') as f: \n",
    "    f.write(ricevitore_10.to_string(index=False))"
   ]
  },
  {
   "cell_type": "code",
   "execution_count": null,
   "metadata": {},
   "outputs": [],
   "source": [
    "fig, ax = plt.subplots()\n",
    "fig.autofmt_xdate()\n",
    "\n",
    "ax.plot(ricevitore_10['data_ora'],ricevitore_10['rad'], label='temp')\n",
    "ax.xaxis.set_major_formatter(DateFormatter('%H:%M'))\n",
    "ax.xaxis.set_major_locator(MinuteLocator(interval = 15))\n",
    "ax.set_ylim((2000,6000))\n",
    "\n",
    "plt.title(title)\n",
    "plt.ylabel('Rad')\n",
    "plt.show()"
   ]
  },
  {
   "cell_type": "code",
   "execution_count": null,
   "metadata": {},
   "outputs": [],
   "source": [
    "df = pd.DataFrame(columns=['data_ora','rad','temperatura','elevazione'])\n",
    "\n",
    "for i in range (20, 56, 5):\n",
    "    mask_11 = parabola.elevazione >= i - 0.1\n",
    "    mask_12 = parabola.elevazione <= i + 0.1\n",
    "    mask_13 = parabola.data_ora <= data_m \n",
    "    a = parabola[mask_11 & mask_12 & mask_13]\n",
    "    if a.empty == False:\n",
    "        mask_7 = ricevitore_10.data_ora >= a.iloc[0]['data_ora'] \n",
    "        mask_8 = ricevitore_10.data_ora <= a.iloc[-1]['data_ora'] \n",
    "        b = ricevitore_10[mask_7 & mask_8].assign(elevazione = i)\n",
    "        df = pd.concat([df,b])\n",
    "\n",
    "for j in range (50, 19, -5):\n",
    "    mask_14 = parabola.elevazione >= j - 0.1\n",
    "    mask_15 = parabola.elevazione <= j + 0.1\n",
    "    mask_16 = parabola.data_ora >= data_m \n",
    "    c = parabola[mask_14 & mask_15 & mask_16]\n",
    "    if c.empty == False:\n",
    "        mask_9 = ricevitore_10.data_ora >= c.iloc[0]['data_ora'] \n",
    "        mask_10 = ricevitore_10.data_ora <= c.iloc[-1]['data_ora'] \n",
    "        d = ricevitore_10[mask_9 & mask_10].assign(elevazione = j)\n",
    "        df = pd.concat([df,d])"
   ]
  },
  {
   "cell_type": "code",
   "execution_count": null,
   "metadata": {},
   "outputs": [],
   "source": [
    "with open('dati.txt', 'w') as f:\n",
    "    file = df.to_string(index=False)\n",
    "    f.write(file)"
   ]
  },
  {
   "cell_type": "code",
   "execution_count": null,
   "metadata": {},
   "outputs": [],
   "source": [
    "fig, ax = plt.subplots()\n",
    "fig.autofmt_xdate()\n",
    "\n",
    "ax.plot(df['data_ora'],df['rad'], label='temp')\n",
    "ax.xaxis.set_major_formatter(DateFormatter('%H:%M'))\n",
    "ax.xaxis.set_major_locator(MinuteLocator(interval = 15))\n",
    "\n",
    "plt.title(title)\n",
    "plt.ylabel('Rad')\n",
    "plt.show()"
   ]
  },
  {
   "cell_type": "code",
   "execution_count": null,
   "metadata": {},
   "outputs": [],
   "source": [
    "fig, axs = plt.subplots(2, sharex=True)\n",
    "fig.suptitle('Rad vs elevazione')\n",
    "\n",
    "mask_17 = df.data_ora <= data_m\n",
    "mask_18 = df.data_ora >= data_m\n",
    "\n",
    "axs[0].scatter(df['elevazione'][mask_17],df['rad'][mask_17], marker='.', label='temp')\n",
    "axs[1].scatter(df['elevazione'][mask_18],df['rad'][mask_18], marker='.', label='temp')\n",
    "\n",
    "plt.show()"
   ]
  },
  {
   "cell_type": "code",
   "execution_count": null,
   "metadata": {},
   "outputs": [],
   "source": [
    "fig_1, axs_1 = plt.subplots(1,2, sharey=True)\n",
    "fig_1.suptitle('Rad ad elevazione 20')\n",
    "fig_1.autofmt_xdate()\n",
    "fig_1.set_size_inches(12, 3)\n",
    "\n",
    "a_1 = df.data_ora <= data_m\n",
    "a_2 = df.data_ora >= data_m\n",
    "a_3 = df.elevazione == 20\n",
    "\n",
    "axs_1[0].plot(df['data_ora'][a_1 & a_3],df['rad'][a_1 & a_3], label='temp')\n",
    "axs_1[0].xaxis.set_major_formatter(DateFormatter('%H:%M'))\n",
    "# axs_1[0].xaxis.set_major_locator(MinuteLocator(interval = 1))\n",
    "\n",
    "axs_1[1].plot(df['data_ora'][a_2 & a_3],df['rad'][a_2 & a_3], label='temp')\n",
    "axs_1[1].xaxis.set_major_formatter(DateFormatter('%H:%M'))\n",
    "# axs_1[1].xaxis.set_major_locator(MinuteLocator(interval = 1))\n",
    "\n",
    "plt.show()\n"
   ]
  },
  {
   "cell_type": "code",
   "execution_count": null,
   "metadata": {},
   "outputs": [],
   "source": [
    "fig_2, axs_2 = plt.subplots(1,2, sharey=True)\n",
    "fig_2.suptitle('Rad ad elevazione 25')\n",
    "fig_2.autofmt_xdate()\n",
    "fig_2.set_size_inches(12, 3)\n",
    "\n",
    "b_1 = df.data_ora <= data_m\n",
    "b_2 = df.data_ora >= data_m\n",
    "b_3 = df.elevazione == 25\n",
    "\n",
    "axs_2[0].plot(df['data_ora'][b_1 & b_3],df['rad'][b_1 & b_3], label='temp')\n",
    "axs_2[0].xaxis.set_major_formatter(DateFormatter('%H:%M'))\n",
    "# axs_2[0].xaxis.set_major_locator(MinuteLocator(interval = 1))\n",
    "\n",
    "axs_2[1].plot(df['data_ora'][b_2 & b_3],df['rad'][b_2 & b_3], label='temp')\n",
    "axs_2[1].xaxis.set_major_formatter(DateFormatter('%H:%M'))\n",
    "# axs_2[1].xaxis.set_major_locator(MinuteLocator(interval = 1))\n",
    "\n",
    "plt.show()"
   ]
  },
  {
   "cell_type": "code",
   "execution_count": null,
   "metadata": {},
   "outputs": [],
   "source": [
    "ig_3, axs_3 = plt.subplots(1,2, sharey=True)\n",
    "fig_3.suptitle('Rad ad elevazione 30')\n",
    "fig_3.autofmt_xdate()\n",
    "fig_3.set_size_inches(12, 3)\n",
    "\n",
    "c_1 = df.data_ora <= data_m\n",
    "c_2 = df.data_ora >= data_m\n",
    "c_3 = df.elevazione == 30\n",
    "\n",
    "axs_3[0].plot(df['data_ora'][c_1 & c_3],df['rad'][c_1 & c_3], label='temp')\n",
    "axs_3[0].xaxis.set_major_formatter(DateFormatter('%H:%M'))\n",
    "# axs_3[0].xaxis.set_major_locator(MinuteLocator(interval = 1))\n",
    "\n",
    "axs_3[1].plot(df['data_ora'][c_2 & c_3],df['rad'][c_2 & c_3], label='temp')\n",
    "axs_3[1].xaxis.set_major_formatter(DateFormatter('%H:%M'))\n",
    "# axs_3[1].xaxis.set_major_locator(MinuteLocator(interval = 1))\n",
    "\n",
    "plt.show()"
   ]
  },
  {
   "cell_type": "code",
   "execution_count": null,
   "metadata": {},
   "outputs": [],
   "source": [
    "fig_4, axs_4 = plt.subplots(1,2, sharey=True)\n",
    "fig_4.suptitle('Rad ad elevazione 35')\n",
    "fig_4.autofmt_xdate()\n",
    "fig_4.set_size_inches(12, 3)\n",
    "\n",
    "d_1 = df.data_ora <= data_m\n",
    "d_2 = df.data_ora >= data_m\n",
    "d_3 = df.elevazione == 35\n",
    "\n",
    "axs_4[0].plot(df['data_ora'][d_1 & d_3],df['rad'][d_1 & d_3], label='temp')\n",
    "axs_4[0].xaxis.set_major_formatter(DateFormatter('%H:%M'))\n",
    "# axs_4[0].xaxis.set_major_locator(MinuteLocator(interval = 1))\n",
    "\n",
    "axs_4[1].plot(df['data_ora'][d_2 & d_3],df['rad'][d_2 & d_3], label='temp')\n",
    "axs_4[1].xaxis.set_major_formatter(DateFormatter('%H:%M'))\n",
    "# axs_4[1].xaxis.set_major_locator(MinuteLocator(interval = 1))\n",
    "\n",
    "plt.show()\n"
   ]
  },
  {
   "cell_type": "code",
   "execution_count": null,
   "metadata": {},
   "outputs": [],
   "source": [
    "fig_5, axs_5 = plt.subplots(1,2, sharey=True)\n",
    "fig_5.suptitle('Rad ad elevazione 40')\n",
    "fig_5.autofmt_xdate()\n",
    "fig_5.set_size_inches(12, 3)\n",
    "\n",
    "e_1 = df.data_ora <= data_m\n",
    "e_2 = df.data_ora >= data_m\n",
    "e_3 = df.elevazione == 40\n",
    "\n",
    "axs_5[0].plot(df['data_ora'][e_1 & e_3],df['rad'][e_1 & e_3], label='temp')\n",
    "axs_5[0].xaxis.set_major_formatter(DateFormatter('%H:%M'))\n",
    "# axs_5[0].xaxis.set_major_locator(MinuteLocator(interval = 1))\n",
    "\n",
    "axs_5[1].plot(df['data_ora'][e_2 & e_3],df['rad'][e_2 & e_3], label='temp')\n",
    "axs_5[1].xaxis.set_major_formatter(DateFormatter('%H:%M'))\n",
    "# axs_5[1].xaxis.set_major_locator(MinuteLocator(interval = 1))\n",
    "\n",
    "plt.show()"
   ]
  },
  {
   "cell_type": "code",
   "execution_count": null,
   "metadata": {},
   "outputs": [],
   "source": [
    "fig_6, axs_6 = plt.subplots(1,2, sharey=True)\n",
    "fig_6.suptitle('Rad ad elevazione 45')\n",
    "fig_6.autofmt_xdate()\n",
    "fig_6.set_size_inches(12, 3)\n",
    "\n",
    "f_1 = df.data_ora <= data_m\n",
    "f_2 = df.data_ora >= data_m\n",
    "f_3 = df.elevazione == 45\n",
    "\n",
    "axs_6[0].plot(df['data_ora'][f_1 & f_3],df['rad'][f_1 & f_3], label='temp')\n",
    "axs_6[0].xaxis.set_major_formatter(DateFormatter('%H:%M'))\n",
    "# axs_6[0].xaxis.set_major_locator(MinuteLocator(interval = 1))\n",
    "\n",
    "axs_6[1].plot(df['data_ora'][f_2 & f_3],df['rad'][f_2 & f_3], label='temp')\n",
    "axs_6[1].xaxis.set_major_formatter(DateFormatter('%H:%M'))\n",
    "# axs_6[1].xaxis.set_major_locator(MinuteLocator(interval = 1))\n",
    "\n",
    "plt.show()"
   ]
  },
  {
   "cell_type": "code",
   "execution_count": null,
   "metadata": {},
   "outputs": [],
   "source": [
    "fig_7, axs_7 = plt.subplots(1,2, sharey=True)\n",
    "fig_7.suptitle('Rad ad elevazione 50')\n",
    "fig_7.autofmt_xdate()\n",
    "fig_7.set_size_inches(12, 3)\n",
    "\n",
    "g_1 = df.data_ora <= data_m\n",
    "g_2 = df.data_ora >= data_m\n",
    "g_3 = df.elevazione == 50\n",
    "\n",
    "axs_7[0].plot(df['data_ora'][g_1 & g_3],df['rad'][g_1 & g_3], label='temp')\n",
    "axs_7[0].xaxis.set_major_formatter(DateFormatter('%H:%M'))\n",
    "# axs_7[0].xaxis.set_major_locator(MinuteLocator(interval = 1))\n",
    "\n",
    "axs_7[1].plot(df['data_ora'][g_2 & g_3],df['rad'][g_2 & g_3], label='temp')\n",
    "axs_7[1].xaxis.set_major_formatter(DateFormatter('%H:%M'))\n",
    "# axs_7[1].xaxis.set_major_locator(MinuteLocator(interval = 1))\n",
    "\n",
    "plt.show()"
   ]
  },
  {
   "cell_type": "code",
   "execution_count": null,
   "metadata": {},
   "outputs": [],
   "source": [
    "fig_9, ax_8 = plt.subplots()\n",
    "fig_9.autofmt_xdate()\n",
    "\n",
    "h = df.elevazione == 55\n",
    "\n",
    "ax_8.plot(df['data_ora'][h],df['rad'][h], label='temp')\n",
    "ax_8.xaxis.set_major_formatter(DateFormatter('%H:%M:%S'))\n",
    "# ax_8.xaxis.set_major_locator(SecondLocator(interval = 30))\n",
    "\n",
    "plt.title('Rad ad elevazione 55')\n",
    "plt.ylabel('Rad')\n",
    "plt.show()"
   ]
  }
 ],
 "metadata": {
  "kernelspec": {
   "display_name": "base",
   "language": "python",
   "name": "python3"
  },
  "language_info": {
   "codemirror_mode": {
    "name": "ipython",
    "version": 3
   },
   "file_extension": ".py",
   "mimetype": "text/x-python",
   "name": "python",
   "nbconvert_exporter": "python",
   "pygments_lexer": "ipython3",
   "version": "3.9.13"
  },
  "orig_nbformat": 4
 },
 "nbformat": 4,
 "nbformat_minor": 2
}
